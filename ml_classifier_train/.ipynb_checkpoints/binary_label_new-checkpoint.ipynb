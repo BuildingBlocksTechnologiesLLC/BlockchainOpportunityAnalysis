{
 "cells": [
  {
   "cell_type": "code",
   "execution_count": 6,
   "metadata": {},
   "outputs": [],
   "source": [
    "import numpy as np\n",
    "import pandas as pd\n",
    "import os\n",
    "import json \n",
    "import gzip\n",
    "import re"
   ]
  },
  {
   "cell_type": "code",
   "execution_count": 7,
   "metadata": {},
   "outputs": [],
   "source": [
    "# Get all job posting files from the domain \n",
    "path = 'Data/Jobs/'\n",
    "def files(domain):\n",
    "    sub_path = os.listdir(path +domain)\n",
    "    postings = []\n",
    "    for i in sub_path:\n",
    "        if i[-1:] == '_' or i[-8:] == 'linkList':\n",
    "            postings.append(i)\n",
    "    return postings\n",
    "        "
   ]
  },
  {
   "cell_type": "markdown",
   "metadata": {},
   "source": [
    "The followings are the rules that I followed to label each domain of job postings based on observation."
   ]
  },
  {
   "cell_type": "markdown",
   "metadata": {},
   "source": [
    "## 1. ziprecruiter\n",
    "#### rule: (linked_list vs. not linked_list)"
   ]
  },
  {
   "cell_type": "code",
   "execution_count": 8,
   "metadata": {},
   "outputs": [],
   "source": [
    "def label_ll(filenames,domain):\n",
    "    for f in filenames:\n",
    "        with open('Data/Jobs/'+domain+'/'+f,\"r\") as json_file:\n",
    "            job = json.load(json_file)\n",
    "            new = {}\n",
    "        if f[-8:] == 'linkList':\n",
    "            with open('Data/Jobs_labeled/'+f, \"w\") as outfile:\n",
    "                new['Label'] = 0\n",
    "                new['CompanyName'] = \"Not Found\"\n",
    "                new['Salary'] = \"Not Found\"\n",
    "                new['Location'] = \"Not Found\"\n",
    "                job.update(new)\n",
    "                json_str = json.dumps(job, indent = 4) + \"\\n\" \n",
    "                outfile.write(json_str)\n",
    "        else:\n",
    "            if \"CompanyName\" in job:\n",
    "                with open('Data/Jobs_labeled/'+f, \"w\") as outfile:\n",
    "                    new['Label'] = 1\n",
    "                    job.update(new)\n",
    "                    json_str = json.dumps(job, indent = 4) + \"\\n\" \n",
    "                    outfile.write(json_str)"
   ]
  },
  {
   "cell_type": "code",
   "execution_count": 9,
   "metadata": {},
   "outputs": [
    {
     "ename": "FileNotFoundError",
     "evalue": "[Errno 2] No such file or directory: 'Data/Jobs/ziprecruiter'",
     "output_type": "error",
     "traceback": [
      "\u001b[0;31m---------------------------------------------------------------------------\u001b[0m",
      "\u001b[0;31mFileNotFoundError\u001b[0m                         Traceback (most recent call last)",
      "\u001b[0;32m<ipython-input-9-13f4efe6074e>\u001b[0m in \u001b[0;36m<module>\u001b[0;34m\u001b[0m\n\u001b[0;32m----> 1\u001b[0;31m \u001b[0mzipre\u001b[0m \u001b[0;34m=\u001b[0m \u001b[0mfiles\u001b[0m\u001b[0;34m(\u001b[0m\u001b[0;34m'ziprecruiter'\u001b[0m\u001b[0;34m)\u001b[0m\u001b[0;34m\u001b[0m\u001b[0;34m\u001b[0m\u001b[0m\n\u001b[0m\u001b[1;32m      2\u001b[0m \u001b[0mlabel_ll\u001b[0m\u001b[0;34m(\u001b[0m\u001b[0mzipre\u001b[0m\u001b[0;34m,\u001b[0m\u001b[0;34m'ziprecruiter'\u001b[0m\u001b[0;34m)\u001b[0m\u001b[0;34m\u001b[0m\u001b[0;34m\u001b[0m\u001b[0m\n",
      "\u001b[0;32m<ipython-input-7-950013b3b749>\u001b[0m in \u001b[0;36mfiles\u001b[0;34m(domain)\u001b[0m\n\u001b[1;32m      2\u001b[0m \u001b[0mpath\u001b[0m \u001b[0;34m=\u001b[0m \u001b[0;34m'Data/Jobs/'\u001b[0m\u001b[0;34m\u001b[0m\u001b[0;34m\u001b[0m\u001b[0m\n\u001b[1;32m      3\u001b[0m \u001b[0;32mdef\u001b[0m \u001b[0mfiles\u001b[0m\u001b[0;34m(\u001b[0m\u001b[0mdomain\u001b[0m\u001b[0;34m)\u001b[0m\u001b[0;34m:\u001b[0m\u001b[0;34m\u001b[0m\u001b[0;34m\u001b[0m\u001b[0m\n\u001b[0;32m----> 4\u001b[0;31m     \u001b[0msub_path\u001b[0m \u001b[0;34m=\u001b[0m \u001b[0mos\u001b[0m\u001b[0;34m.\u001b[0m\u001b[0mlistdir\u001b[0m\u001b[0;34m(\u001b[0m\u001b[0mpath\u001b[0m \u001b[0;34m+\u001b[0m\u001b[0mdomain\u001b[0m\u001b[0;34m)\u001b[0m\u001b[0;34m\u001b[0m\u001b[0;34m\u001b[0m\u001b[0m\n\u001b[0m\u001b[1;32m      5\u001b[0m     \u001b[0mpostings\u001b[0m \u001b[0;34m=\u001b[0m \u001b[0;34m[\u001b[0m\u001b[0;34m]\u001b[0m\u001b[0;34m\u001b[0m\u001b[0;34m\u001b[0m\u001b[0m\n\u001b[1;32m      6\u001b[0m     \u001b[0;32mfor\u001b[0m \u001b[0mi\u001b[0m \u001b[0;32min\u001b[0m \u001b[0msub_path\u001b[0m\u001b[0;34m:\u001b[0m\u001b[0;34m\u001b[0m\u001b[0;34m\u001b[0m\u001b[0m\n",
      "\u001b[0;31mFileNotFoundError\u001b[0m: [Errno 2] No such file or directory: 'Data/Jobs/ziprecruiter'"
     ]
    }
   ],
   "source": [
    "zipre = files('ziprecruiter')\n",
    "label_ll(zipre,'ziprecruiter')"
   ]
  },
  {
   "cell_type": "code",
   "execution_count": 133,
   "metadata": {},
   "outputs": [
    {
     "data": {
      "text/plain": [
       "43"
      ]
     },
     "execution_count": 133,
     "metadata": {},
     "output_type": "execute_result"
    }
   ],
   "source": [
    "# 25\n",
    "len(zipre)"
   ]
  },
  {
   "cell_type": "markdown",
   "metadata": {},
   "source": [
    "## 2. Google \n",
    "#### rule: (not real job postings)"
   ]
  },
  {
   "cell_type": "code",
   "execution_count": 134,
   "metadata": {},
   "outputs": [],
   "source": [
    "def label_no(filenames,domain):\n",
    "    for f in filenames:\n",
    "        with open('Data/Jobs/'+domain+'/'+f,\"r\") as json_file:\n",
    "            job = json.load(json_file)\n",
    "            new = {}\n",
    "        if \"CompanyName\" in job:\n",
    "            with open('Data/Jobs_labeled/'+f, \"w\") as outfile:\n",
    "                new['Label'] = 0\n",
    "                job.update(new)\n",
    "                json_str = json.dumps(job, indent = 4) + \"\\n\" \n",
    "                outfile.write(json_str)"
   ]
  },
  {
   "cell_type": "code",
   "execution_count": 135,
   "metadata": {},
   "outputs": [],
   "source": [
    "goog = files('google')\n",
    "label_no(goog,'google')"
   ]
  },
  {
   "cell_type": "code",
   "execution_count": 136,
   "metadata": {},
   "outputs": [
    {
     "data": {
      "text/plain": [
       "6528"
      ]
     },
     "execution_count": 136,
     "metadata": {},
     "output_type": "execute_result"
    }
   ],
   "source": [
    "# 6527\n",
    "len(goog)"
   ]
  },
  {
   "cell_type": "markdown",
   "metadata": {},
   "source": [
    "## 3. simplyhired\n",
    "#### rule: (' /job/' in the url real job postings )"
   ]
  },
  {
   "cell_type": "code",
   "execution_count": 137,
   "metadata": {},
   "outputs": [],
   "source": [
    "def label_url2(filenames,domain):\n",
    "    for f in filenames:\n",
    "        with open('Data/Jobs/'+domain+'/'+f,\"r\") as json_file:\n",
    "            job = json.load(json_file)\n",
    "            url = job['Url']\n",
    "            new = {}\n",
    "        if f[-8:] == 'linkList':\n",
    "            with open('Data/Jobs_labeled/'+f, \"w\") as outfile:\n",
    "                new['Label'] = 0\n",
    "                new['CompanyName'] = \"Not Found\"\n",
    "                new['Salary'] = \"Not Found\"\n",
    "                new['Location'] = \"Not Found\"\n",
    "                job.update(new)\n",
    "                json_str = json.dumps(job, indent = 4) + \"\\n\" \n",
    "                outfile.write(json_str)\n",
    "        elif '/job/' in url:\n",
    "            if \"CompanyName\" in job:\n",
    "                with open('Data/Jobs_labeled/'+f, \"w\") as outfile:\n",
    "                    new['Label'] = 1\n",
    "                    job.update(new)\n",
    "                    json_str = json.dumps(job, indent = 4) + \"\\n\" \n",
    "                    outfile.write(json_str)\n",
    "        else:\n",
    "            if \"CompanyName\" in job:\n",
    "                with open('Data/Jobs_labeled/'+f, \"w\") as outfile:\n",
    "                    new['Label'] = 0\n",
    "                    job.update(new)\n",
    "                    json_str = json.dumps(job, indent = 4) + \"\\n\" \n",
    "                    outfile.write(json_str)"
   ]
  },
  {
   "cell_type": "code",
   "execution_count": 138,
   "metadata": {},
   "outputs": [],
   "source": [
    "sh = files('simplyhired')\n",
    "label_url2(sh,'simplyhired')"
   ]
  },
  {
   "cell_type": "code",
   "execution_count": 139,
   "metadata": {},
   "outputs": [
    {
     "data": {
      "text/plain": [
       "15751"
      ]
     },
     "execution_count": 139,
     "metadata": {},
     "output_type": "execute_result"
    }
   ],
   "source": [
    "len(sh) #4115"
   ]
  },
  {
   "cell_type": "markdown",
   "metadata": {},
   "source": [
    "## 4. cryptojobslist\n",
    "#### rule: (\"company\" in url are not real job postings, url that contains '/jobs/' are real job postings )"
   ]
  },
  {
   "cell_type": "code",
   "execution_count": 140,
   "metadata": {},
   "outputs": [],
   "source": [
    "def label_url(filenames,domain):\n",
    "    for f in filenames:\n",
    "        with open('Data/Jobs/'+domain+'/'+f,\"r\") as json_file:\n",
    "            job = json.load(json_file)\n",
    "            url = job['Url']\n",
    "            new = {}\n",
    "         \n",
    "        if f[-8:] == 'linkList':\n",
    "            with open('Data/Jobs_labeled/'+f, \"w\") as outfile:\n",
    "                new['Label'] = 0\n",
    "                new['CompanyName'] = \"Not Found\"\n",
    "                new['Salary'] = \"Not Found\"\n",
    "                new['Location'] = \"Not Found\"\n",
    "                job.update(new)\n",
    "                json_str = json.dumps(job, indent = 4) + \"\\n\" \n",
    "                outfile.write(json_str)\n",
    "        elif 'companies' in url:\n",
    "            if \"CompanyName\" in job:\n",
    "                with open('Data/Jobs_labeled/'+f, \"w\") as outfile:\n",
    "                    new['Label'] = 0\n",
    "                    job.update(new)\n",
    "                    json_str = json.dumps(job, indent = 4) + \"\\n\" \n",
    "                    outfile.write(json_str)\n",
    "        elif '/jobs/'in url:\n",
    "            if \"CompanyName\" in job:\n",
    "                with open('Data/Jobs_labeled/'+f, \"w\") as outfile:\n",
    "                    new['Label'] = 1\n",
    "                    job.update(new)\n",
    "                    json_str = json.dumps(job, indent = 4) + \"\\n\" \n",
    "                    outfile.write(json_str)"
   ]
  },
  {
   "cell_type": "code",
   "execution_count": 141,
   "metadata": {},
   "outputs": [],
   "source": [
    "cjl = files('cryptojobslist')\n",
    "label_url(cjl,'cryptojobslist')"
   ]
  },
  {
   "cell_type": "code",
   "execution_count": 142,
   "metadata": {},
   "outputs": [
    {
     "data": {
      "text/plain": [
       "1231"
      ]
     },
     "execution_count": 142,
     "metadata": {},
     "output_type": "execute_result"
    }
   ],
   "source": [
    "len(cjl) #980"
   ]
  },
  {
   "cell_type": "markdown",
   "metadata": {},
   "source": [
    "## 5. crypto\n",
    "#### rule: (Titles with “at” real ; Titles with “in” not real)"
   ]
  },
  {
   "cell_type": "code",
   "execution_count": 143,
   "metadata": {},
   "outputs": [],
   "source": [
    "def label_ti(filenames,domain):\n",
    "    for f in filenames:\n",
    "        with open('Data/Jobs/'+domain+'/'+f,\"r\") as json_file:\n",
    "            job = json.load(json_file)\n",
    "            title = job['Title']\n",
    "            new = {}\n",
    "        if f[-8:] == 'linkList':\n",
    "            with open('Data/Jobs_labeled/'+f, \"w\") as outfile:\n",
    "                new['Label'] = 0\n",
    "                new['CompanyName'] = \"Not Found\"\n",
    "                new['Salary'] = \"Not Found\"\n",
    "                new['Location'] = \"Not Found\"\n",
    "                job.update(new)\n",
    "                json_str = json.dumps(job, indent = 4) + \"\\n\"\n",
    "                outfile.write(json_str)\n",
    "        elif ' at ' in title:\n",
    "            if \"CompanyName\" in job:\n",
    "                with open('Data/Jobs_labeled/'+f, \"w\") as outfile:\n",
    "                    new['Label'] = 1\n",
    "                    job.update(new)\n",
    "                    json_str = json.dumps(job, indent = 4) + \"\\n\"\n",
    "                    outfile.write(json_str)\n",
    "        elif ' in ' in title:\n",
    "            if \"CompanyName\" in job:\n",
    "                with open('Data/Jobs_labeled/'+f, \"w\") as outfile:\n",
    "                    new['Label'] = 0\n",
    "                    job.update(new)\n",
    "                    json_str = json.dumps(job, indent = 4) + \"\\n\"\n",
    "                    outfile.write(json_str)"
   ]
  },
  {
   "cell_type": "code",
   "execution_count": 144,
   "metadata": {},
   "outputs": [],
   "source": [
    "cryp = files('crypto')\n",
    "label_ti(cryp,'crypto')"
   ]
  },
  {
   "cell_type": "code",
   "execution_count": 145,
   "metadata": {},
   "outputs": [
    {
     "data": {
      "text/plain": [
       "3394"
      ]
     },
     "execution_count": 145,
     "metadata": {},
     "output_type": "execute_result"
    }
   ],
   "source": [
    "len(cryp) #3749"
   ]
  },
  {
   "cell_type": "markdown",
   "metadata": {},
   "source": [
    "## 6. monster\n",
    "#### rule: (\"at\" in the job title shows that it is a real job posting )"
   ]
  },
  {
   "cell_type": "code",
   "execution_count": 146,
   "metadata": {},
   "outputs": [],
   "source": [
    "def label_at(filenames,domain):\n",
    "    for f in filenames:\n",
    "        with open('Data/Jobs/'+domain+'/'+f,\"r\") as json_file:\n",
    "            job = json.load(json_file)\n",
    "            title = job['Title']\n",
    "            new = {}\n",
    "        if f[-8:] == 'linkList':\n",
    "            with open('Data/Jobs_labeled/'+f, \"w\") as outfile:\n",
    "                new['Label'] = 0\n",
    "                new['CompanyName'] = \"Not Found\"\n",
    "                new['Salary'] = \"Not Found\"\n",
    "                new['Location'] = \"Not Found\"\n",
    "                job.update(new)\n",
    "                json_str = json.dumps(job, indent = 4) + \"\\n\"\n",
    "                outfile.write(json_str)\n",
    "        elif ' at ' in title:\n",
    "            if \"CompanyName\" in job:\n",
    "                with open('Data/Jobs_labeled/'+f, \"w\") as outfile:\n",
    "                    new['Label'] = 1\n",
    "                    job.update(new)\n",
    "                    json_str = json.dumps(job, indent = 4) + \"\\n\"\n",
    "                    outfile.write(json_str)\n",
    "        else:\n",
    "            if \"CompanyName\" in job:\n",
    "                with open('Data/Jobs_labeled/'+f, \"w\") as outfile:\n",
    "                    new['Label'] = 0\n",
    "                    job.update(new)\n",
    "                    json_str = json.dumps(job, indent = 4) + \"\\n\"\n",
    "                    outfile.write(json_str)"
   ]
  },
  {
   "cell_type": "code",
   "execution_count": 147,
   "metadata": {},
   "outputs": [],
   "source": [
    "mons = files('monster')"
   ]
  },
  {
   "cell_type": "code",
   "execution_count": 148,
   "metadata": {},
   "outputs": [],
   "source": [
    "label_at(mons,'monster')"
   ]
  },
  {
   "cell_type": "code",
   "execution_count": 149,
   "metadata": {},
   "outputs": [
    {
     "data": {
      "text/plain": [
       "2931"
      ]
     },
     "execution_count": 149,
     "metadata": {},
     "output_type": "execute_result"
    }
   ],
   "source": [
    "len(mons) #2805"
   ]
  },
  {
   "cell_type": "markdown",
   "metadata": {},
   "source": [
    "## 7. Dice\n",
    "#### rule: ( Almost all real job postings, excpet for linkedlist )"
   ]
  },
  {
   "cell_type": "code",
   "execution_count": 150,
   "metadata": {},
   "outputs": [],
   "source": [
    "di = files('dice')\n",
    "label_ll(di,'dice')"
   ]
  },
  {
   "cell_type": "code",
   "execution_count": 151,
   "metadata": {},
   "outputs": [
    {
     "data": {
      "text/plain": [
       "98"
      ]
     },
     "execution_count": 151,
     "metadata": {},
     "output_type": "execute_result"
    }
   ],
   "source": [
    "len(di) # 101"
   ]
  },
  {
   "cell_type": "markdown",
   "metadata": {},
   "source": [
    "## 8. Blocktribe\n",
    "#### rule: (Almost all real job postings， except for linkedlist)"
   ]
  },
  {
   "cell_type": "code",
   "execution_count": 152,
   "metadata": {},
   "outputs": [],
   "source": [
    "block = files('blocktribe')\n",
    "label_ll(block,'blocktribe')"
   ]
  },
  {
   "cell_type": "code",
   "execution_count": 153,
   "metadata": {},
   "outputs": [
    {
     "data": {
      "text/plain": [
       "393"
      ]
     },
     "execution_count": 153,
     "metadata": {},
     "output_type": "execute_result"
    }
   ],
   "source": [
    "len(block) #310"
   ]
  },
  {
   "cell_type": "markdown",
   "metadata": {},
   "source": [
    "## 9. Linkedin\n",
    "#### rule: ( ' in ' in title and '| LinkedIn' in title are real job postings )"
   ]
  },
  {
   "cell_type": "code",
   "execution_count": 154,
   "metadata": {},
   "outputs": [],
   "source": [
    "def label_linkedin(filenames,domain):\n",
    "    for f in filenames:\n",
    "        with open('Data/Jobs/'+domain+'/'+f,\"r\") as json_file:\n",
    "            if json_file != None:\n",
    "                job = json.load(json_file)  \n",
    "                title = job['Title']\n",
    "                new = {} \n",
    "            if f[-8:] == 'linkList':\n",
    "                with open('Data/Jobs_labeled/'+f , \"w\") as outfile:\n",
    "                    new['Label'] = 0\n",
    "                    new['CompanyName'] = \"Not Found\"\n",
    "                    new['Salary'] = \"Not Found\"\n",
    "                    new['Location'] = \"Not Found\"\n",
    "                    job.update(new)\n",
    "                    json_str = json.dumps(job, indent = 4) + \"\\n\" \n",
    "                    outfile.write(json_str)\n",
    "            elif ' in ' in title and '| LinkedIn' in title:\n",
    "                if \"CompanyName\" in job:\n",
    "                    with open('Data/Jobs_labeled/'+f, \"w\") as outfile:\n",
    "                        new['Label'] = 1\n",
    "                        job.update(new)\n",
    "                        json_str = json.dumps(job, indent = 4) + \"\\n\" \n",
    "                        outfile.write(json_str)\n",
    "            else:\n",
    "                if \"CompanyName\" in job:\n",
    "                    with open('Data/Jobs_labeled/'+f, \"w\") as outfile:\n",
    "                        new['Label'] = 0\n",
    "                        job.update(new)\n",
    "                        json_str = json.dumps(job, indent = 4) + \"\\n\" \n",
    "                        outfile.write(json_str)"
   ]
  },
  {
   "cell_type": "code",
   "execution_count": 155,
   "metadata": {
    "scrolled": true
   },
   "outputs": [],
   "source": [
    "link = files('linkedin')\n",
    "label_linkedin(link,'linkedin')"
   ]
  },
  {
   "cell_type": "code",
   "execution_count": 156,
   "metadata": {},
   "outputs": [
    {
     "data": {
      "text/plain": [
       "19046"
      ]
     },
     "execution_count": 156,
     "metadata": {},
     "output_type": "execute_result"
    }
   ],
   "source": [
    "len(link)"
   ]
  },
  {
   "cell_type": "markdown",
   "metadata": {},
   "source": [
    "## 10. Glassdoor\n",
    "#### rule: (’Job in‘ in title is a job postings )"
   ]
  },
  {
   "cell_type": "code",
   "execution_count": 157,
   "metadata": {},
   "outputs": [],
   "source": [
    "def label_gd(filenames,domain):\n",
    "    for f in filenames:\n",
    "        with open('Data/Jobs/'+domain+'/'+f,\"r\") as json_file:\n",
    "            job = json.load(json_file)              \n",
    "            title = job['Title']\n",
    "            new = {}\n",
    "        if f[-8:] == 'linkList':\n",
    "            with open('Data/Jobs_labeled/'+f, \"w\") as outfile:\n",
    "                new['Label'] = 0\n",
    "                new['CompanyName'] = \"Not Found\"\n",
    "                new['Salary'] = \"Not Found\"\n",
    "                new['Location'] = \"Not Found\"\n",
    "                job.update(new)\n",
    "                json_str = json.dumps(job, indent = 4) + \"\\n\" \n",
    "                outfile.write(json_str)\n",
    "        elif 'Job in' in title:\n",
    "            if \"CompanyName\" in job:\n",
    "                with open('Data/Jobs_labeled/'+f, \"w\") as outfile:\n",
    "                    new['Label'] = 1\n",
    "                    job.update(new)\n",
    "                    json_str = json.dumps(job, indent = 4) + \"\\n\" \n",
    "                    outfile.write(json_str)\n",
    "        else:\n",
    "            if \"CompanyName\" in job:\n",
    "                with open('Data/Jobs_labeled/'+f, \"w\") as outfile:\n",
    "                    new['Label'] = 0\n",
    "                    job.update(new)\n",
    "                    json_str = json.dumps(job, indent = 4) + \"\\n\" \n",
    "                    outfile.write(json_str)"
   ]
  },
  {
   "cell_type": "code",
   "execution_count": 158,
   "metadata": {},
   "outputs": [],
   "source": [
    "gd = files('glassdoor')\n",
    "label_gd(gd,'glassdoor')"
   ]
  },
  {
   "cell_type": "markdown",
   "metadata": {},
   "source": [
    "## 11. proofoftalent\n",
    "#### rule: (' /job/' in the url real job postings )"
   ]
  },
  {
   "cell_type": "code",
   "execution_count": 160,
   "metadata": {},
   "outputs": [],
   "source": [
    "proof = files('proofoftalent')\n",
    "label_url2(proof,'proofoftalent')"
   ]
  },
  {
   "cell_type": "code",
   "execution_count": 161,
   "metadata": {},
   "outputs": [
    {
     "data": {
      "text/plain": [
       "20"
      ]
     },
     "execution_count": 161,
     "metadata": {},
     "output_type": "execute_result"
    }
   ],
   "source": [
    "len(proof) #19"
   ]
  },
  {
   "cell_type": "markdown",
   "metadata": {},
   "source": [
    "## 12. cybercoders\n",
    "#### rule: ( '-job-' in the URL are real job postings )"
   ]
  },
  {
   "cell_type": "code",
   "execution_count": 162,
   "metadata": {},
   "outputs": [],
   "source": [
    "def label_cyber(filenames,domain):\n",
    "    for f in filenames:\n",
    "        with open('Data/Jobs/'+domain+'/'+f,\"r\") as json_file:\n",
    "            job = json.load(json_file)\n",
    "            url = job['Url']\n",
    "            new = {}\n",
    "        \n",
    "        if f[-8:] == 'linkList':\n",
    "            with open('Data/Jobs_labeled/'+f, \"w\") as outfile:\n",
    "                new['Label'] = 0\n",
    "                new['CompanyName'] = \"Not Found\"\n",
    "                new['Salary'] = \"Not Found\"\n",
    "                new['Location'] = \"Not Found\"\n",
    "                job.update(new)\n",
    "                json_str = json.dumps(job, indent = 4) + \"\\n\" \n",
    "                outfile.write(json_str)\n",
    "        elif '-job-' in url:\n",
    "            if \"CompanyName\" in job:\n",
    "                with open('Data/Jobs_labeled/'+f, \"w\") as outfile:\n",
    "                    new['Label'] = 1\n",
    "                    job.update(new)\n",
    "                    json_str = json.dumps(job, indent = 4) + \"\\n\" \n",
    "                    outfile.write(json_str)\n",
    "        elif 'skills' in url:\n",
    "            if \"CompanyName\" in job:\n",
    "                with open('Data/Jobs_labeled/'+f, \"w\") as outfile:\n",
    "                    new['Label'] = 0\n",
    "                    job.update(new)\n",
    "                    json_str = json.dumps(job, indent = 4) + \"\\n\" \n",
    "                    outfile.write(json_str)        \n",
    "        else:\n",
    "            if \"CompanyName\" in job:\n",
    "                with open('Data/Jobs_labeled/'+f, \"w\") as outfile:\n",
    "                    new['Label'] = 0\n",
    "                    job.update(new)\n",
    "                    json_str = json.dumps(job, indent = 4) + \"\\n\" \n",
    "                    outfile.write(json_str)"
   ]
  },
  {
   "cell_type": "code",
   "execution_count": 163,
   "metadata": {},
   "outputs": [],
   "source": [
    "cyb = files('cybercoders')\n",
    "label_cyber(cyb,'cybercoders')"
   ]
  },
  {
   "cell_type": "markdown",
   "metadata": {},
   "source": [
    "## 13. cryptocurrencyjobs\n",
    "#### rule: ( ’At‘ in titles indicate real jobs)"
   ]
  },
  {
   "cell_type": "code",
   "execution_count": 164,
   "metadata": {},
   "outputs": [],
   "source": [
    "cryptocurrency = files('cryptocurrencyjobs')\n",
    "label_at(cryptocurrency,'cryptocurrencyjobs')"
   ]
  },
  {
   "cell_type": "code",
   "execution_count": 165,
   "metadata": {},
   "outputs": [
    {
     "data": {
      "text/plain": [
       "3142"
      ]
     },
     "execution_count": 165,
     "metadata": {},
     "output_type": "execute_result"
    }
   ],
   "source": [
    "len(cryptocurrency) # 2421"
   ]
  },
  {
   "cell_type": "markdown",
   "metadata": {},
   "source": [
    "## Output the list of labeled files"
   ]
  },
  {
   "cell_type": "code",
   "execution_count": 166,
   "metadata": {},
   "outputs": [],
   "source": [
    "sub_path = os.listdir('Data/Jobs_labeled/')\n",
    "postings = []\n",
    "for i in sub_path:\n",
    "    if i[-5:] != 'Store':\n",
    "        postings.append(i)        "
   ]
  },
  {
   "cell_type": "code",
   "execution_count": 167,
   "metadata": {},
   "outputs": [],
   "source": [
    "label_df = pd.DataFrame(columns = ['file_name', 'domain', 'label'])\n",
    "for index, f in enumerate(postings):\n",
    "    with open('Data/Jobs_labeled/'+f,\"r\") as json_file:\n",
    "        job = json.load(json_file)\n",
    "        label = job['Label']\n",
    "        site = job['DomainId']\n",
    "        label_df.loc[index] = [f[:-1], label, site]\n"
   ]
  },
  {
   "cell_type": "code",
   "execution_count": 168,
   "metadata": {},
   "outputs": [
    {
     "data": {
      "text/html": [
       "<div>\n",
       "<style scoped>\n",
       "    .dataframe tbody tr th:only-of-type {\n",
       "        vertical-align: middle;\n",
       "    }\n",
       "\n",
       "    .dataframe tbody tr th {\n",
       "        vertical-align: top;\n",
       "    }\n",
       "\n",
       "    .dataframe thead th {\n",
       "        text-align: right;\n",
       "    }\n",
       "</style>\n",
       "<table border=\"1\" class=\"dataframe\">\n",
       "  <thead>\n",
       "    <tr style=\"text-align: right;\">\n",
       "      <th></th>\n",
       "      <th>file_name</th>\n",
       "      <th>domain</th>\n",
       "      <th>label</th>\n",
       "    </tr>\n",
       "  </thead>\n",
       "  <tbody>\n",
       "    <tr>\n",
       "      <th>0</th>\n",
       "      <td>FA9CEDFB5538FCC4B3F5E1A1BFE3AF5F_linkLis</td>\n",
       "      <td>0</td>\n",
       "      <td>simplyhired</td>\n",
       "    </tr>\n",
       "    <tr>\n",
       "      <th>1</th>\n",
       "      <td>D13073688BB7719AF0DB78450669533D</td>\n",
       "      <td>1</td>\n",
       "      <td>linkedin</td>\n",
       "    </tr>\n",
       "    <tr>\n",
       "      <th>2</th>\n",
       "      <td>CE113FB3A810218017AD645540159E4B_linkLis</td>\n",
       "      <td>0</td>\n",
       "      <td>simplyhired</td>\n",
       "    </tr>\n",
       "    <tr>\n",
       "      <th>3</th>\n",
       "      <td>D2675ADD4D9305240E07ED31B571CA5D_linkLis</td>\n",
       "      <td>0</td>\n",
       "      <td>simplyhired</td>\n",
       "    </tr>\n",
       "    <tr>\n",
       "      <th>4</th>\n",
       "      <td>2A5BA8C34CD45F47D58306724926684E</td>\n",
       "      <td>1</td>\n",
       "      <td>linkedin</td>\n",
       "    </tr>\n",
       "  </tbody>\n",
       "</table>\n",
       "</div>"
      ],
      "text/plain": [
       "                                  file_name domain        label\n",
       "0  FA9CEDFB5538FCC4B3F5E1A1BFE3AF5F_linkLis      0  simplyhired\n",
       "1          D13073688BB7719AF0DB78450669533D      1     linkedin\n",
       "2  CE113FB3A810218017AD645540159E4B_linkLis      0  simplyhired\n",
       "3  D2675ADD4D9305240E07ED31B571CA5D_linkLis      0  simplyhired\n",
       "4          2A5BA8C34CD45F47D58306724926684E      1     linkedin"
      ]
     },
     "execution_count": 168,
     "metadata": {},
     "output_type": "execute_result"
    }
   ],
   "source": [
    "label_df.head(5)"
   ]
  },
  {
   "cell_type": "code",
   "execution_count": 169,
   "metadata": {},
   "outputs": [],
   "source": [
    "label_df.to_csv('labeled_job_posting.csv')"
   ]
  }
 ],
 "metadata": {
  "kernelspec": {
   "display_name": "Python 3",
   "language": "python",
   "name": "python3"
  },
  "language_info": {
   "codemirror_mode": {
    "name": "ipython",
    "version": 3
   },
   "file_extension": ".py",
   "mimetype": "text/x-python",
   "name": "python",
   "nbconvert_exporter": "python",
   "pygments_lexer": "ipython3",
   "version": "3.7.3"
  }
 },
 "nbformat": 4,
 "nbformat_minor": 2
}
